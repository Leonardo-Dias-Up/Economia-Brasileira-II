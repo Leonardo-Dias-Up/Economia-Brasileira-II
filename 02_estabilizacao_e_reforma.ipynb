{
 "cells": [
  {
   "cell_type": "markdown",
   "metadata": {},
   "source": [
    "<center> <h1>A Crise da Década de 1960 e o “Milagre Econômico”</h1> </center>\n",
    "\n",
    "***"
   ]
  },
  {
   "cell_type": "markdown",
   "metadata": {},
   "source": [
    "<center> <h2>Estabilização e reforma (1964-1967)</h2> </center>\n",
    "\n",
    "***Este notebook ainda precisa ser alinhado com o modelo novo de anotações.***\n",
    "\n",
    "</br>\n",
    "\n",
    "Ao final desse tópico, o aluno deve ser capaz de responder as seguintes perguntas:\n",
    "\n",
    "> 1. Quais foram as medidas mais importantes adotadas pelo PAEG para o controle da inflação? Descreva-as e avalie seus resultados.\n",
    "\n",
    "> 2. Descreva o conjunto das medidas relacionadas ao setor externo delineadas no PAEG. Qual a orientação geral que é possível identificar em tais medidas? \n",
    "\n",
    "> 3. Analise o papel da política salarial para o programa de estabilização promovido pelo PAEG e responda: ela foi essencial ou secundário para seus objetivos?\n"
   ]
  },
  {
   "cell_type": "code",
   "execution_count": 1,
   "metadata": {},
   "outputs": [],
   "source": [
    "import pandas as pd\n",
    "import numpy as np\n",
    "import seaborn as sns\n",
    "import matplotlib.pyplot as plt\n",
    "\n",
    "plt.style.use(['science', 'notebook', 'grid'])"
   ]
  },
  {
   "cell_type": "markdown",
   "metadata": {},
   "source": [
    "***"
   ]
  },
  {
   "cell_type": "markdown",
   "metadata": {},
   "source": [
    "### ***A Política Brasileira de Estabilização: 1963/68 - André Lara Resende (1982)***\n",
    "\n",
    "- ***Objetivo do Artigo***: *análise crítica do Programa de Ação Econômica do Governo (PAEG). [...] Entretando, o trabalho nota que o PAEG não deve ser considerado um programa perfeitamente ortodoxo de estabilização.*\n",
    "\n",
    "#### Contexto Pré-PAEG\n",
    "- *\"Houve quatro tentativas de contenção da inflação no Brasil antes de 1964, todas pressionadas, ou motivadas, **pela necessidade de ganhar credibilidade externa**, tanto de agentes financeiros privados como de organizações oficiais [...] Muito provavelmente por este motivo, todas elas tiveram **caráter bastante ortodoxo**.\"*\n",
    "\t- O primeiro programa de controle da inflação terminou em maio de 1955 com a renúncio do ministério econômico (Gudin, Bulhões e Mariani).\n",
    "\t- A segunda tentativa de combater a inflação deu-se em 1958 com o Programa de Estabilização Monetária (PEM).\n",
    "\t\t- *\"Assim como ocorreu na tentativa de estabilização ortodoxa da primeira metade da década, as pressões contra o PEM tronaram-se um ônus política muito alto para o Governo\"*\n",
    "\t\t- O crescimento do Governo Kubitscheck estabeleceu dificuldades ao controle da inflação.\n",
    "\t\t\t- *\"A tentativa de manter o ritmo do crescimento industrial acelerado sem perder o controle da inflação manteve o câmbio sobrevalorizado. Em particular, o sistema de taxas múltiplas para importações subsidiou as importações de bens de capital, transferindo renda para a indústria, enquanto se praticava o confisco do lado das exportações tradicionais.\"*\n",
    "\t- *\"Durante o segundo semestre de 1962, no entranto, preparou-se um programa econômico, surgido em dezembro com o nome de **'Plano Trienal de Desenvolvimento Econômico e Social'**...\"* (liderado por Celso Furtado)\n",
    "\t\t- ***Objetivos:***\n",
    "\t\t\t- \"*Assegurar uma taxa de crescimento da renda nacional compatível com as expectativas de melhoria de vida que motivam, na época presente, o povo brasileiro*\"\n",
    "\t\t\t- \"*reduzir progressivamente a pressão inflacionária em 1963, que não deveria ser superior à metade da taxa observada em 1932, enquanto em 1965 deveria aproximar-se de 10% da taxa de 1932*\"\n",
    "\t\t- ***Instrumentos:***:\n",
    "\t\t\t- \"*Os instrumentos a serem utilizados para alcançar resultados tão otimistas eram, entretanto, os tradicionalmente encontrados nos planos ortodoxos de estabilização*\"\n",
    "\t\t- \"*O deficit do Tesouro foi identificado como 'o principal fator de desequilíbrio, gerador de pressão inflacionária'*\"\n",
    "\t\t- \"*O Plano propunha também uma política de austeridade em relação à expansão monetária, embora ressalvasse que 'o crédito ao setor privado deveria crescer em montante correspondente à elevação do nível de preços adicionado ao aumento do produto real'*\"\n",
    "\t\t- **Não foi isto, entretanto, o que ocorreu.**\n",
    "\t\t- ***Resultado:*** *\"Ainda que se possa questionar uma interpretação da crise do começo da década de 60, com base única e exclusivamente na política monetária e creditícia do Plano Trienal, parece inegável, dado o grau de redução na liquidez real ocorrido em 1963, que tal política tenha no mínimo precipitado a crise\"*\n",
    "\n",
    "#### O PAEG\n",
    "- ***Objetivos:***\n",
    "\t- Acelerar o ritmo de desenvolvimento econômico interrompido no biênio 1932/63\n",
    "\t- Conter,  progressivamente, o processo inflacionário, durante 1964 e 1965, objetivando um razoável equilíbrio de preços a partir de 1966.\n",
    "\t- Atenuar os desníveis econômicos setoriais e regionais.\n",
    "\t- Corrigir a tendência a deficits descontrolados do balanço de pagamentos.\n",
    "- ***Instrumentos:***\n",
    "\t\n",
    "\t> Destaquei apenas os mais importantes dos pilares de política financeira, internacional e social.\n",
    "\n",
    "\t- Política de redução do deficit de caixa governamental.\n",
    "\t- Política cambial e de comércio exterior, isto é, *incentivo das exportações*.\n",
    "\t- Política de consolidação da dívida externa e de restauração do crédito do país no exterior, isto é, *busca de alivío de curto prazo sobre o balanço de pagamentos*.\n",
    "\t- Falaram: *\"Política salarial que assegurasse a participação dos trabalhadores nos benefícios do desenvolvimento econômico\"*. Executaram: Política salarial que reduziu o ganho real dos trabalhadores.\n",
    "- \"Tratava-se, portanto, de um programa que acentuava a importância da manutenção, ou da recuperação, das taxas de cescimento da economia.\"\n",
    "- <mark style=\"background: #FFF3A3A6;\">Apesar do uso de instrumentos ortodoxos para fazer o ajuste, o Programa apresentava um diagnóstico da inflação heterodoxo.</mark> \n",
    "\t- \"A inflação brasileira era diagnosticada como 'resultado da inconsistência da política distributiva, concentrada em dois pontos principais:'\"\n",
    "\t\t- ***Dispêndio governamental***\n",
    "\t\t- ***Incompatibilidade entre a propensão a consumir e a propensão a investir***\n",
    "\t- \"Dentro desse quadro, encontram-se as três causas tradicionais da inflação brasileira: os deficits públicos, a expansão do crédito às empresas ***(até aqui temos inflação como descrito pela Curva de Philips)*** e as majorações institucionais de salários em proporção superior à do aumento de produtividade. Estas causas conduzem inevitavelmente à expansão dos meios de pagamento, gerando o veículo monetários de propagação da inflação ***(aqui vemos influência da Teoria Quantitativa da Moeda)***\"\n",
    "\t\t- \"<mark style=\"background: #D2B3FFA6;\">Um diagnóstico, portanto, que atribui à inconsistência na esfera distributiva da economia a causa da inflação e que vê na expansão monetária não um ator autônomo de pressão inflacionária, mas o veículo de ratificação, ou de propagação, dessas pressões.</mark> \"\n",
    "\t- *\"Onde o PAEG se diferenciava do Plano Trienal era na ênfase dada à política salarial\"*\n",
    "\t- Até que ponto o PAEG foi ortodoxo? *A ortodoxia começa no diagnóstico da situação inflacionária. A inflação é percebida como consequência imediata da excessiva expansão monetária*\n",
    "\t\t- Como a principal fonte da expansão monetária excessiva é o deficit orçamentário do Tesouro, é necessário fazer também uma política fiscal restritiva.\n",
    "\t\t- \"É no mercado de trabalho, e em relação aos salários, que o liberalismo econômico da ortodoxia torna-se confuso e incoerente. [...] <mark style=\"background: #FFF3A3A6;\">Ao contrário, no entanto, de como a visão ortodoxa percebe todos os demais mercados - competitivos, sem fricção e em permanente equilíbrio -, o mercado de trabalho aparece como fonte de todas as dificuldades enfrentadas no combate à inflação</mark> \"\n",
    "\t\t\t- \"*Explica-se, assim, a resistência da inlação após a adoção das medidas restritivas de política monetária e fiscal, quando o estado recessivo da economia já não permite insistir no diagnóstico do excesso generalizado de demanda. Portanto, o mercado de trabalho e o poder de fixação de preços dos sindicatos em particular são apontados como a fonte das dificuldades do programa de estabilização*\"\n",
    "\t\t- Dentro desta perspectiva, o PAEG não foi um programa perfeitamente ortodoxo. Suas intenções demonstram demasiada preocupação com a manutenção das taxas de crescimento e, portanto, ***alguma tolerância com a inflação*** (...). \n",
    "\t\t- \"***Usando o poder de repressão de que dispões o governo autoritário, foi possível fazer diretamente aquilo que a ortodoxia pretende conseguir através da recessão e do desemprego***: solucionar o impasse distributivo através da redução da parcela salarial. [...] <mark style=\"background: #FF5582A6;\">Na verdade, o programa desinflacionário do PAEG não é ortodoxo justamente nos pontos em que o contexto político permite a intervenção direta sobre as reivindicações incompatíveis</mark> \"\n",
    "\t- Se o PAEG diagnosticou a causa da inflação corretamente e se o governo detinha o poder de solucionar o conflito distributivo de forma autoritária, por que a instituição dos mecanismos ortodoxos? *\"A confiança dos players internacionais só poderia ser conquistada através de demonstrações inequívocas da opção pela ortodoxia\"*\n",
    "\t- Sobre a criação de mecanismos de indexação: <mark style=\"background: #ABF7F7A6;\">É importante notar que a própria instituição de mecanismo de indexação é uma concessão à inflação e um reconhecimento claro de que não se espera que a estabilidade de preços seja alcançada a médio prazo.</mark> \n"
   ]
  },
  {
   "cell_type": "markdown",
   "metadata": {},
   "source": [
    "***"
   ]
  },
  {
   "cell_type": "markdown",
   "metadata": {},
   "source": [
    "### ***Diesse (1967)***\n",
    "\n",
    "- \"Considerando o PAEG, vamos encontrar como primeiro objetivo básico da política salarias 'manter a participação dos assalariados no Produto Nacional'\"\n",
    "\t- \"Esse objetivo garantiria os trabalhadores contra a diminuição de sua remuneração, *ficando patente que só seria permitido reajustes salariais decorrentes da continuação do processo inflacionário, enquanto aumentos só seriam concedidos quando aumentasse a produtividade*\"\n",
    "\t- \"Todas essas observações [*sobre a política de reajuste anterior*] conduzem à conclusão de que o critério tradicional de reajustar salários na proporção do aumento do cursto de vida é ***incompatível com a política de estabilização monetária com desenvolvimento econômico***\"\n",
    "\t\t- Aqui temos um ponto interessante. <mark style=\"background-color: lightblue\"> Afinal, a própria política de estabilização monetária é incompatível com desenvolvimento econômico.</mark>\n",
    "    - Com o reajuste baseado na remuneração do últimos dois anos, o regime nivelaria as percentagens de participação na renda nacional de cada setor [(ver)](#^37e570) \n",
    "    - \"*Num processo contínuo de alta geral dos preços, somo obrigados a admitir que as revisões salariais, se não são a causa principal da inflação e, inclusive, se são motivadas por ela, irão também contribuir para a subida dos preços*, já que o sistema vigente não requer que os reajustes sejam rabsorvidos de outra forma\"\n",
    "\t\t- \"Não esquecemos, porém, que muitos se valem das campanhas salariais [...] para remarcar seus produtos, em bases maiores do que seriam devidas. <mark style=\"background: #ABF7F7A6;\">Nesses casos, a responsabilidade da inflação não pode ser atribuida aos trabalhadores</mark> \"\n",
    "\t- \"Se fosse feito um balanço das medidas tomadas para conter a inflação, ***concluir-se-ia que o único objetivo plenamente atingido foi a contenção dos salarios***, enquanto que o mesmo 'exito' não foi conseguido com as demais variáveis.\"\n",
    "\t- Conclusão do Diesse sobre a política salarial: \"***A não revisão das falhas em sua aplicação prática significará que ela foi uma forma de dourar***, com formulações difíceis e calculos não facilmente à altura do conhecimento do trabalhado comum, ***um princípio nunca declarodo: <mark style=\"background: #ABF7F7A6;\">a redução dos salários reais do trabalhador e a diminuição de sua participação no produto nacional</mark> ***\""
   ]
  },
  {
   "cell_type": "markdown",
   "metadata": {},
   "source": [
    "***"
   ]
  },
  {
   "cell_type": "markdown",
   "metadata": {},
   "source": [
    "### ***Reformas, Endividamento Externo e o “Milagre” Econômico (1934-1973) - Jennifer Hermann (2011)***\n",
    "\n",
    "#### Sobre o PAEG\n",
    "\n",
    "- A avaliação da inflação era de que *\"a responsabilidade primordial do processo inflacionário cabe aos **déficit governamentais** e à contínua **pressão salarial**\"* \n",
    "\t- Os déficits alimentavam a expansão dos meios de pagamento que, por sua vez, ***sancionavam*** os aumentos de salários.\n",
    "\t- - \"***O problema é que a aceleração da inflação é, em geral, acompanhada de um processo de desajuste de preços relativos***, sendo particularmente penalizados aqueles preços fixados em contratos de longo prazo (um ano ou mais), como salários, aluguéis, tarifas públicas e, em regimes de câmbio administrado, como o que vigia no Brasil à época, também a taxa de câmbio. ***Esse desajuste é, em si, uma fonte realimentadora da inflação porque gera um conflito distributivo causador de contínuas demandas por correções de preços defasados.***\"\n",
    "\n",
    "#### Reformas Estruturais 1964-67\n",
    "\n",
    "- \"***Os objetivos explícitos da reforma tributária eram o aumento da arrecadação do governo (via aumento da carga tributária da economia) e a racionalização do sistema tributário.*** Nesse sentido, pretendia-se reduzir os custos operacionais da arrecadação (...) e definir uma estrutura tributária capaz de incentivar o crescimento econômico.\"\n",
    "- O principal objetivo das reformas foi complementar o Sistema Financeiro Brasileiro, notadamente, construindo um \"*segmento privado de longo prazo no Brasil*\", isto é, um \"*mecanismo de financiamento capaz de sustentar o processo de industrialização já em curso, de forma não inflacionária*\". Entretanto, essa tentativa não prosperou.\n",
    "- Em relação à reforma financeira, os efeitos do PAEG foram mais lentos, só se fazendo sentir ao longo dos anos seguintes. O principal efeito visível a curto prazo — e, talvez, o maior mérito da reforma — ***foi a efetiva criação de um mercado de dívida pública no país, viabilizando, de forma permanente, o financiamento não monetário dos déficits do governo***.\n",
    "\n",
    "#### Sobre os salários\n",
    "\n",
    "- \"Como o valor do salário nominal é fixo entre duas datas de reajuste (um ano, na maioria dos casos), na presença de inflação o salário real se reduz a cada mês, ao longo desse período. *Assim, se este for um período de inflação estável, o valor relativo dos salários e dos lucros fica equilibrado*; ***se for um período de queda da inflação, a indexação retroativa resultará em ganho para os salários reais, porque o período comportará salários reais mais elevados que no cenário de inflação estável***; por fim, ***se o período for de aceleração da inflação, haverá ganho para os lucros, porque a média do salário real ficará “achatada” em relação ao que seria nos outros cenários.***\" ^37e570\n",
    "\t- $\\pi$ (inflação), $w$ (salários ), $\\Pi$ (lucro)\n",
    "\t- $\\pi$ estável $\\Rightarrow w$ e $\\Pi$ estáveis.\n",
    "\t- $\\Uparrow \\pi \\space \\Rightarrow \\space \\Downarrow w \\space e \\space \\Uparrow \\Pi$\n",
    "\t- $\\Downarrow \\pi \\space \\Rightarrow \\space \\Uparrow w \\space e \\space \\Downarrow \\Pi$"
   ]
  },
  {
   "cell_type": "markdown",
   "metadata": {},
   "source": [
    "***"
   ]
  },
  {
   "cell_type": "markdown",
   "metadata": {},
   "source": [
    "### Respostas dos Exercícios\n",
    "\n",
    "> 1. Quais foram as medidas mais importantes adotadas pelo PAEG para o controle da inflação? Descreva-as e avalie seus resultados.\n",
    "\n",
    "1. O Programa de Ação Econômica Governamental foi um programa para enfrentar a crise econômica acumulada nos anos anteriores. Em seu diagnóstico, os formuladores do Programa apontaram o descontrole da inflação como causa da crise e afirmaram que esse descontrole viria dos seguintes fatores (Hermann, 2011): (i) defícits governamentais; e (ii) pressões salariais. Tendo isto em mente, o governo adotou uma série de medidas de austeridade para diminuir os deficits governamentais, interferiu no processo de negociação salarial nos âmbitos públicos e privados, e adotou uma política externa que visava aliviar a pressão sobre o balanço de pagamentos brasileiro. \n",
    "\n",
    "   Dentre as medidas que visavam diminuir o deficit governamental, podemos destacar o tratamento dado as despesas públicas. Desde 1950, havia deficits fiscais recorrentes, mas tal situação muda a partir de 1964 com a implementação do PAEG. Em 1965, inicia-se uma série de superavits nas contas públicas, o que é um resultado positivo do Programa. Entretanto, é importante notar que esses superavits não proveem da diminuição das despesas **e** do aumento das receitas, mas sim do aumento das receitas **acima** do aumento das despesas, o que não era previsto no planejamento oficial do governo.\n",
    "   \n",
    "   Apesar do relativo sucesso com as medidas de redução do deficit fiscal, o verdadeiro trunfo do governo para conter a inflação esteve na política salarial rígida. Nas palavras do relatório do Diesse (1967): *\"Se fosse feito um balanço das medidas tomadas para conter a inflação, **concluir-se-ia que o único objetivo plenamente atingido foi a contenção dos salários**, enquanto o mesmo 'exito' não foi conseguido com as demais variáveis.\"* Contraditoriamente ao anunciado, o que o governo autoritário de 1964 implementou foi uma política de compressão salarial, que diminui o crescimento do salário real em 20 pontos percentuais de 1964 para 1965.\n",
    "\n",
    "\n",
    "> 2. Descreva o conjunto das medidas relacionadas ao setor externo delineadas no PAEG. Qual a orientação geral que é possível identificar em tais medidas? \n",
    "\n",
    "2. O governo de 64 implementou as seguintes medidas relacionadas ao setor externo: (i) uma política cambial e de comércio exterior para impulsionar as exportações brasileiras; (ii) uma política que estimulava a entrada adicional de capital estrangeiro.\n",
    "\n",
    "\tEntre as medidas de incentivo a exportação está a desvalorização do cruzeiro em 3 momentos entre dez/64 e fev/67, e os incentivos fiscais e creditícios às exportações, como a isenção do IR, IPI E ICM em 1967.\n",
    "\t\n",
    "\tEntre as medidas relacionadas a capital estrangeiro, temos a maior referência na Reforma do SFB, na Lei Nº. 4131 e na edição da Resolução Nº. 63 do Banco Central. Em suma, todos esses novos regulamentos facilitavam a aquisição de crédito externo para entes domésticos, o que levou a um crescimento explosivo da conta de capitais do Balanço de Pagamentos.\n",
    "\n",
    "\n",
    "> 3. Analise o papel da política salarial para o programa de estabilização promovido pelo PAEG e responda: ela foi essencial ou secundário para seus objetivos?\n",
    "\n",
    "3. Em seu anúncio, o governo afirmou que a política salarial preconizaria a *\"participação dos trabalhadores nos benefícios do desenvolvimento econômico\"*, entretanto, o que de fato ocorreu foi a compressão sistemática dos salários reais a partir de 1964."
   ]
  },
  {
   "cell_type": "code",
   "execution_count": null,
   "metadata": {},
   "outputs": [],
   "source": []
  }
 ],
 "metadata": {
  "kernelspec": {
   "display_name": "Python 3",
   "language": "python",
   "name": "python3"
  },
  "language_info": {
   "codemirror_mode": {
    "name": "ipython",
    "version": 3
   },
   "file_extension": ".py",
   "mimetype": "text/x-python",
   "name": "python",
   "nbconvert_exporter": "python",
   "pygments_lexer": "ipython3",
   "version": "3.8.6"
  }
 },
 "nbformat": 4,
 "nbformat_minor": 4
}
