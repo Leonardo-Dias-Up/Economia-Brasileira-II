{
 "cells": [
  {
   "cell_type": "markdown",
   "metadata": {},
   "source": [
    "<center> <h1>A Crise da Década de 1960 e o “Milagre Econômico”</h1> </center>\n",
    "\n",
    "***"
   ]
  },
  {
   "cell_type": "markdown",
   "metadata": {},
   "source": [
    "<center> <h2>Salários e Distribuição de Renda</h2> </center>\n",
    "\n",
    "***"
   ]
  },
  {
   "cell_type": "markdown",
   "metadata": {},
   "source": [
    "### Pontos-chave"
   ]
  },
  {
   "cell_type": "markdown",
   "metadata": {},
   "source": [
    "#### Ciclos Econômicos de 1960 a 1970\n",
    "\n",
    "- ***1.ª Fase (1960 a 1963):*** inflação acelerada e redução do ritmo de crescimento que culminou com depressão; \n",
    "- ***2.ª Fase (1964 a 1966):*** redução da inflação e ainda depressão; \n",
    "- ***3.ª Fase (1967 a 1970):*** desaceleração da inflação e crescimento acelerado)"
   ]
  },
  {
   "cell_type": "markdown",
   "metadata": {},
   "source": [
    "#### Enfoque na educação/Curva de Kuznets\n",
    "\n",
    "> Langoni, C. G. (1973). Distribuição da renda e desenvolvimento econômico do Brasil: uma reafirmação.\n",
    "\n",
    "- O ponto que o autor sustenta é que ***\"grande parcela do aumento de desigualdade observado a partir da comparação direta dos perfis estimados de renda reflete apenas mudanças de proporção na força de trabalho\"***. E dessas mudanças na força de trabalho, <mark style=\"background: #FFF3A3A6;\">a mais importante se dá em relação ao nível de educação da mesma</mark>.\n",
    "\n",
    "- O autor constrói um modelo teórico cuja previsão básica é que <mark style=\"background: #FFF3A3A6;\">\"*o processo de desenvolvimento irá necessariamente gerar desequilíbrios*</mark>*, que serão particularmente importantes na fase de crescimento acelerado.* <mark style=\"background: #FFF3A3A6;\">*Este desequilíbrio toma forma de um aumento no salário relativo, dos grupos de mão-de-obra qualificada relativamente aqueles pouco qualificados*\"</mark>. \n",
    "\n",
    "- Isto é, ao longo do processo de desenvolvimento do final da década de 1960, a expansão da demanda por mão-de-obra foi ***não neutra***: ela ***beneficiou relativamente mais o pessoal mais qualificado***, refletindo a expansão mais rápida dos setores modernos em relação aos setores tradicionais. <mark style=\"background: #FFF3A3A6;\">Ou seja, o autor atribui às diferenças de elasticidade entre oferta de mão-de-obra qualificada e não qualificada o crescimento da desigualdade de renda</mark>, <mark style=\"background: #ABF7F7A6;\">e rechaça a ideia de Fishlow que o aumento da desigualdade tenha sido fruto da política salarial do governo</mark> .\n",
    "\n",
    "  - Nas palavras do autor:\n",
    "  \n",
    "    > *\"O impacto final sobre os salários relativos se completa pelas diferenças de elasticidade da oferta de cada tipo de mão-de-obra (quanto mais qualificada mais inelástica) e pelas peculiaridades da função de produção da educação formal que faz com que mudanças na escala da oferta sejam relativamente lentas.\"* \n",
    "\n",
    "    > *\"<mark style=\"background: #ABF7F7A6;\">Finalmente enfatizamos a impossibilidade de identificar inequivocamente a influência independente da política salarial a partir de 1964.</mark>\"*\n",
    "    > \n",
    "    >\n",
    "    > *\"Em primeiro lugar, [...] esta não é uma explicação que permita compreender o que aconteceu com o perfil de renda como um todo. Em segundo lugar, ela teria apenas reforçado uma tendência que poderia ser explicada teoricamente pelo comportamento elástico' da mão-de-obra não qualificada. Em terceiro lugar, se a explicação é baseada em fatores\" ad hoc\" então consistência exige que todas as políticas (ou componentes cíclicas), que tiveram potencialmente importantes efeitos redistributivos durante a década, sejam avaliadas.\"*\n",
    "  \n",
    "  - ![alt](assets/Pasted%20image%2020220507120523.png)\n",
    "\n"
   ]
  },
  {
   "cell_type": "markdown",
   "metadata": {},
   "source": [
    "\n",
    "#### Enfoque nos fatores políticos\n",
    "\n",
    "> Souza, P. H. G. F. D. (2016). A desigualdade vista do topo: a concentração de renda entre os ricos no Brasil, 1926-2013.\n",
    "\n",
    "- Para este autor, *\"<mark style=\"background: #FFF3A3A6;\">o avanço da concentração no topo já no período antes do “milagre econômico” torna as interpretações benignas centradas no “U invertido” de Kuznets e na educação pouco convincentes</mark> , e reforçam os pontos levantados por Albert Fishlow, Rodolfo Hoffmann, Edmar Bacha e outros. <mark style=\"background: #ABF7F7A6;\">Isso não implica que mudanças estruturais e/ou a desigualdade educacional não tenham nenhuma importância; só é difícil dar primazia a elas</mark> .\"*\n",
    "\n",
    "- No âmbito dos fatores políticos responsáveis pelo aumento da desigualdade no período, o autor inclui (esta lista não é exaustiva): (i) política salarial; (ii) a reforma tributária de meados de 1960; (iii) a oligopolização do sistema bancário; e (iv) o FGTS. Seguem os excertos de cada um desses pontos:\n",
    "\n",
    "  > (ii): *\"A política salarial não foi a única iniciativa da ditadura com efeitos distributivos favoráveis aos mais ricos. A reforma tributária levada a cabo em meados dos anos 1960 tinha como objetivo aumentar a arrecadação e racionalizar o sistema, e foi muito bem sucedida nisso, contribuindo para a redução significativa do déficit público. **Em termos distributivos, contudo, é muito provável que seu impacto tenha sido regressivo, como defendido por Hermann (2005b), uma vez que a maior parte do aumento da arrecadação decorreu de impostos indiretos**.\"*\n",
    "\n",
    "  > (iii): *\"A ditadura promoveu ativamente a concentração bancária, sobretudo a partir de 1971, acreditando que economias de escala reduziriam os custos operacionais do sistema. **O resultado foi apenas a limitação da concorrência e oligopolização do sistema bancário**.\"*\n",
    "\n",
    "  > (iv): *\"<mark style=\"background: #FFF3A3A6;\">Ao facilitar a rotatividade da mão de obra, o FGTS foi vantajoso para os empregadores, possibilitando a estratégia de demitir funcionários logo antes dos dissídios coletivos para recontratá-los depois sem conceder os reajustes</mark> (FAUSTO, 1995; VIANNA, 1999). Os recursos do fundo, por sua vez, eram direcionados para os financiamentos subsidiados do Sistema Financeiro de Habitação, que beneficiaram mais as classes média e alta\"* "
   ]
  },
  {
   "cell_type": "markdown",
   "metadata": {},
   "source": [
    "***"
   ]
  },
  {
   "cell_type": "markdown",
   "metadata": {},
   "source": [
    "### Por que fugiram do ajuste recessivo?\n",
    "\n",
    "> Souza, P. H. G. F. D. (2016). A desigualdade vista do topo: a concentração de renda entre os ricos no Brasil, 1926-2013.\n",
    "\n",
    "- *\"A abertura “lenta, gradual e segura” deu-se em meio a pressões que colocavam em jogo a legitimidade do governo [*Geisel*]. [...] <mark style=\"background: #FFF3A3A6;\">A situação não dava margem para um ajuste recessivo, nem seria possível deslocar as perdas para os assalariados como no PAEG.</mark> Daí a opção por dobrar a aposta no crescimento e lançar o ambicioso II Plano Nacional de Desenvolvimento (PND), possibilitado, no plano externo, pela liquidez proporcionada pelos chamados petrodólares.\"*\n",
    "\t\n",
    "\t- Nas palavras do Delfim:\n",
    "\n",
    "\t\t> \"*A estrutura da distribuição de renda é insatisfatória, e com ela a Revolução não se solidariza, mesmo porque tal distribuição resultou de uma evolução de longo prazo da economia, e não de fatores recentes.*\" (1974)\n",
    "\t\t\n",
    "    \t- O estranho é que essa fala é colocada após uma década de medidas de compressão salarial."
   ]
  },
  {
   "cell_type": "markdown",
   "metadata": {},
   "source": []
  }
 ],
 "metadata": {
  "kernelspec": {
   "display_name": "Python 3",
   "language": "python",
   "name": "python3"
  },
  "language_info": {
   "codemirror_mode": {
    "name": "ipython",
    "version": 3
   },
   "file_extension": ".py",
   "mimetype": "text/x-python",
   "name": "python",
   "nbconvert_exporter": "python",
   "pygments_lexer": "ipython3",
   "version": "3.8.6"
  }
 },
 "nbformat": 4,
 "nbformat_minor": 4
}
