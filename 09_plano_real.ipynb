{
 "cells": [
  {
   "cell_type": "markdown",
   "metadata": {},
   "source": [
    "# <center>Programas de Estabilização e Reestruturação Produtiva</center>\n",
    "\n",
    "***\n",
    "\n",
    "## <center> O Plano Real e o governo FHC </center>\n",
    "\n",
    "***"
   ]
  },
  {
   "cell_type": "markdown",
   "metadata": {},
   "source": [
    "O Plano Real adotou a ideia de uma reforma monetária com a coexistência de duas moedas simultaneamente (inspiração do \"Plano Larida\" - Persio Arida e André Lara Resende, 1983; versão em português, 1986). Uma como meio de troca e outra como unidade de conta."
   ]
  },
  {
   "cell_type": "markdown",
   "metadata": {},
   "source": [
    "### Mecanismos e Medidas\n",
    "\n",
    "O Plano foi implementado em 3 etapas:\n",
    "\n",
    "- ***<mark style=\"background: #FF5582A6;\">Ajuste Fiscal</mark>***: Programa de Ação Imediata (PAI) (maio/1993) e o Fundo Social de Emergência (fev/1994), buscando reduzir sonegação, aumentar arrecadação (através do Imposto Provisório sobre Movimentação Financeira - IPMF), regularizar os pagamentos das dívidas dos estados, flexibilizar a vinculação de receitas federais (da Constituição de 1988), ampliar privatizações.\n",
    "\n",
    "- ***<mark style=\"background: #FF5582A6;\">Realinhamento de Preços</mark>*** (tratamento da inércia inflacionária):\n",
    "\t- Em um primeiro momento, o cruzeiro real continuaria circulando com a função de meio de troca. A função de unidade de conta e de reserva de valor seria exercida, de forma transitória, por um índice (*Unidade Real de Valor*, ***URV***) que era de adesão voluntária (MP no.434 de 27/03/1994).\n",
    "\t- A URV seria reajustada pela variação diária da inflação e acompanharia a flutuação do dólar através da ação do Banco Central.\n",
    "\t- Os contratos e preços seriam reajustados pela variação diária da URV, mas com pagamento na moeda antiga.\n",
    "\n",
    "- ***<mark style=\"background: #FF5582A6;\">Nova moeda com âncora cambial</mark>***:\n",
    "\t- Após todos os contratos e preços serem expressos em URV, a moeda antiga seria abandonada e a URV mudaria o nome para *Real*, passando a exercer todas as funções de moeda (MP no.542 de 30/06/1994).\n",
    "\t- Além disso, a nova moeda teria uma paridade fixa (com bandas) em relação ao dólar.\n",
    "\t\t- Mas, do ponto de vista de taxa de câmbio real, houve: (i) apreciação da moeda nos primeiros três meses; (ii) minidesvalorizações erráticas entre jan/1995 - meados/1996; (iii) a partir de meados de 1996 houve minidesvalorizações frequentes, com a mudança para o câmbio flutuante em jan/1999 após uma crise cambial.\n",
    "\n",
    "Além das três frentes de implementação destacadas acima, os seguintes pontos também foram importantes para a execução do Plano Real:\n",
    "\n",
    "- O compulsório sobre depósitos à vista subiu de 40% para 100%. A ideia foi de controlar a liquidez e o risco de explosão de demanda no início da estabilização.\n",
    "- Elevadas taxas de juros reais desde o início do Plano - média de 20% entre 1994-1998. é importante notar que a taxa de juros real elevada contribui para: (i) a contenção de demanda; e (ii) atração de capital externo. E atrapalhou o ajuste fiscal do governo, pois reforçou o aumento da dívida pública.\n",
    "- Criação do ***COPOM***, para \"estabelecer diretrizes da política monetária\" e definir a taxa básica de juros; \n",
    "- Adoção do ***regime de metas de inflação***, definindo metas *\"representadas por variações anuais de índice de preços de ampla divulgação\"*\n",
    "- Aprovação da ***Lei de Responsabilidade Fiscal***"
   ]
  },
  {
   "cell_type": "markdown",
   "metadata": {},
   "source": [
    "### Resultados\n",
    "\n",
    "> *\"O controle da inflação pelo Plano Real não se traduziu imediatamente em melhoria nos indicadores econômicos. Ao contrário, houve agravamento dos desequilíbrios interno e externo.\"*\n",
    "\n",
    "- O resultado do ajuste fiscal foi decepcionante.  O resultado do setor público caiu de 5,2% em 1994 para 0,27% em 1995, recuperando-se somente em 1999, com 3,2% do PIB.\n",
    "\t- ***<mark style=\"background: #FFF3A3A6;\">Efeito Tanzi</mark>***: ***queda do valor real da receita de tributos resultante do aumento dos preços entre o momento do fator gerador e o momento do recolhimento efetivo do tributo.*** *Fenômeno conhecido em períodos de alta inflação ou hiperinflação, mas quando não há indexação generalizada.*\n",
    "\t- Um \"Efeito Tanzi às avessas\" explica o pobre desempenho fiscal do país nos primeiros anos do Real: com a estabilização de preços, não houve mais redução das despesas reais em relação à receita indexada.\n",
    "\n",
    "\t> *\"\"Efeito Tanzi às avessas\": em uma economia altamente indexada como a brasileira, as receitas fiscais eram indexadas, mas as despesas eram orçadas pelo valor nominal (e contingenciadas), com a inflação ao longo do ano favorecendo o balanço da União, estados e municípios.\"*\n",
    "\t\n",
    "- No setor externo, o fator que preservou o equilíbrio foram as elevadas entradas de capital impulsionadas pelo fim da reestruturação da dívida externa em 1994.\n",
    "\t- Exceto essa entrada de capitais, todos os outros fatores contribuíram negativamente para os resultados do setor externo (fixação do câmbio, altas taxas de juros e apreciação do Real).\n",
    "\t- Além disso, a crise da Ásia (1997) e da Rússia (ago/1998) ocasionaram ataques especulativos contra o Real. Adicionalmente, a incerteza com a eleição de 1998 (segundo mandato de FHC) e a persistência dela após a eleição levaram a adoção do câmbio flutuante em 18/01/1999.\n",
    "\t\t- Na época, houve expectativa disseminada de que o fim do regime de câmbio fixo/bandas e a grande desvalorização do Real resultassem em um impacto direto sobre custos, expectativas inflacionárias, repasse para preços e retomada da inflação. Porém, o efeito da desvalorização foi absorvido sem repique inflacionário e o câmbio flutuante consolidou-se como peça central do regime macroeconômico."
   ]
  }
 ],
 "metadata": {
  "language_info": {
   "name": "python"
  },
  "orig_nbformat": 4
 },
 "nbformat": 4,
 "nbformat_minor": 2
}
